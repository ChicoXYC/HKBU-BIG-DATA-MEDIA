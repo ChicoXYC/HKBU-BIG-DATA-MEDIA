{
 "cells": [
  {
   "cell_type": "code",
   "execution_count": 3,
   "metadata": {},
   "outputs": [],
   "source": [
    "from bs4 import BeautifulSoup\n",
    "import requests\n",
    "import csv"
   ]
  },
  {
   "cell_type": "code",
   "execution_count": 4,
   "metadata": {},
   "outputs": [],
   "source": [
    "resp = requests.get('http://www.theyshootpictures.com/gf1000.htm')\n",
    "htm_str = resp.text\n",
    "document = BeautifulSoup(htm_str,'html.parser')"
   ]
  },
  {
   "cell_type": "code",
   "execution_count": 5,
   "metadata": {},
   "outputs": [],
   "source": [
    "film_titles = []\n",
    "rankings = []\n",
    "film_directors = []\n",
    "urls = []"
   ]
  },
  {
   "cell_type": "code",
   "execution_count": 6,
   "metadata": {},
   "outputs": [],
   "source": [
    "for i in range(0,10):\n",
    "    url = 'http://www.theyshootpictures.com/gf1000'+'_'+str((i+1)*100)+'-'+str(i*100+1)+'.htm'\n",
    "    urls.append(url)"
   ]
  },
  {
   "cell_type": "code",
   "execution_count": 7,
   "metadata": {},
   "outputs": [
    {
     "data": {
      "text/plain": [
       "['http://www.theyshootpictures.com/gf1000_100-1.htm',\n",
       " 'http://www.theyshootpictures.com/gf1000_200-101.htm',\n",
       " 'http://www.theyshootpictures.com/gf1000_300-201.htm',\n",
       " 'http://www.theyshootpictures.com/gf1000_400-301.htm',\n",
       " 'http://www.theyshootpictures.com/gf1000_500-401.htm',\n",
       " 'http://www.theyshootpictures.com/gf1000_600-501.htm',\n",
       " 'http://www.theyshootpictures.com/gf1000_700-601.htm',\n",
       " 'http://www.theyshootpictures.com/gf1000_800-701.htm',\n",
       " 'http://www.theyshootpictures.com/gf1000_900-801.htm',\n",
       " 'http://www.theyshootpictures.com/gf1000_1000-901.htm']"
      ]
     },
     "execution_count": 7,
     "metadata": {},
     "output_type": "execute_result"
    }
   ],
   "source": [
    "urls"
   ]
  },
  {
   "cell_type": "code",
   "execution_count": 8,
   "metadata": {},
   "outputs": [],
   "source": [
    "for url in urls:\n",
    "    l1 = requests.get(url).text\n",
    "    mypage = BeautifulSoup(l1,'html.parser')\n",
    "    film_pages = mypage.find_all('div',attrs={'class':'stacks_in com_yourhead_stack_header_stack'})\n",
    "    \n",
    "    \n",
    "    for film_page in film_pages:\n",
    "        film_titles.append(film_page.find('span').text)\n",
    "    director_pages = mypage.find_all('div',attrs={'class':'stacks_in text_stack'})\n",
    "    \n",
    "    \n",
    "    for page in director_pages:\n",
    "        film_director = page.find('span',attrs={'style':'font-size:24px; '})\n",
    "        if film_director:\n",
    "            film_director = film_director\n",
    "\n",
    "        else:\n",
    "            film_director = page.find('span',attrs={'style':'font-size:22px; '})\n",
    "        if film_director is None:\n",
    "            continue\n",
    "        film_directors.append(film_director.text)\n",
    "        \n",
    "\n",
    "    ranking_pages1 = mypage.find_all('div',attrs={'class':'jwresp_col jwresp2_col1'})\n",
    "    ranking_pages2 = mypage.find_all('div',attrs={'class':'jwresp_col jwresp2_col2'})\n",
    "    for i in range(0,len(ranking_pages1)):\n",
    "        r1 = ranking_pages1[i].find_all('div',attrs={'class':'stacks_in text_stack'})[0].text\n",
    "        r2 = ranking_pages2[i].find_all('div',attrs={'class':'stacks_in text_stack'})[0].text\n",
    "        rankings.append(r1)\n",
    "        rankings.append(r2)"
   ]
  },
  {
   "cell_type": "code",
   "execution_count": 11,
   "metadata": {},
   "outputs": [],
   "source": [
    "with open(\"movie.csv\",'w') as f:\n",
    "    writer = csv.writer(f)\n",
    "    header = ['Movie','Directors','Ranking']\n",
    "    writer.writerow(header)\n",
    "    writer.writerows(zip(film_titles,film_directors,rankings))"
   ]
  },
  {
   "cell_type": "code",
   "execution_count": null,
   "metadata": {},
   "outputs": [],
   "source": [
    "\n"
   ]
  }
 ],
 "metadata": {
  "kernelspec": {
   "display_name": "Python 3",
   "language": "python",
   "name": "python3"
  },
  "language_info": {
   "codemirror_mode": {
    "name": "ipython",
    "version": 3
   },
   "file_extension": ".py",
   "mimetype": "text/x-python",
   "name": "python",
   "nbconvert_exporter": "python",
   "pygments_lexer": "ipython3",
   "version": "3.6.3"
  }
 },
 "nbformat": 4,
 "nbformat_minor": 2
}
